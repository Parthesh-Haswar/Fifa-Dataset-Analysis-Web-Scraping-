{
 "cells": [
  {
   "cell_type": "markdown",
   "metadata": {
    "id": "7hVMz8JDU2LU"
   },
   "source": [
    "# FIFA DATASET ANALYSIS\n"
   ]
  },
  {
   "cell_type": "code",
   "execution_count": 1,
   "metadata": {
    "executionInfo": {
     "elapsed": 1344,
     "status": "ok",
     "timestamp": 1628686486702,
     "user": {
      "displayName": "Parthesh Haswar",
      "photoUrl": "",
      "userId": "05178899820139619481"
     },
     "user_tz": -330
    },
    "id": "5H7DCtSBU5zf"
   },
   "outputs": [],
   "source": [
    "# NumPy\n",
    "import numpy as np\n",
    "\n",
    "# Pandas\n",
    "import pandas as pd\n",
    "\n",
    "# Matplotlib\n",
    "import matplotlib.pyplot as plt\n",
    "\n",
    "\n",
    "# Seaborn\n",
    "import seaborn as sns\n",
    "\n",
    "# BeautifulSoup\n",
    "from bs4 import BeautifulSoup\n",
    "\n",
    "# Request\n",
    "import requests\n",
    "\n",
    "# RegEX\n",
    "import re"
   ]
  },
  {
   "cell_type": "code",
   "execution_count": 5,
   "metadata": {
    "executionInfo": {
     "elapsed": 511,
     "status": "ok",
     "timestamp": 1628690211257,
     "user": {
      "displayName": "Parthesh Haswar",
      "photoUrl": "",
      "userId": "05178899820139619481"
     },
     "user_tz": -330
    },
    "id": "izq341nRV6A1"
   },
   "outputs": [],
   "source": [
    "def fifa_dataset(url):\n",
    "  global df_final  \n",
    "  df_final=pd.DataFrame()\n",
    "  for i in range(1,11):\n",
    "    # url=f'https://sofifa.com/players?offset={i}'\n",
    "    url= url+ str(i)\n",
    "    req=requests.get(url)\n",
    "    soup=BeautifulSoup(req.content)\n",
    "    image_link=[]\n",
    "    name=[]\n",
    "    position=[]\n",
    "    age=[]\n",
    "    ova=[]\n",
    "    pot=[]\n",
    "    team=[]\n",
    "    duration=[]\n",
    "    value=[]\n",
    "    wage=[]\n",
    "    total_stats=[]\n",
    "    hits=[]\n",
    "    for i in soup.findAll('tr'):\n",
    "      Image_link = re.sub('<img.*data-srcset=\"| .*/>','',str(i.find('img',{\"class\":\"player-check\"})))\n",
    "      Name = re.sub('<a.*data-tooltip=\"|\" href.*a>','',str(i.find('a',{\"class\":\"tooltip\"})))\n",
    "      Position = re.sub('^<span.*\">|</.*>','',str(i.find('span',{'class':'pos'})))\n",
    "      Age = re.sub('<td.*\">|</td>','',str(i.find('td',{\"class\":\"col\"})))\n",
    "      OVA = re.sub('<td.*\">|</td>|<.*>','',str(i.find('td',{\"class\":\"col col-oa\"})))\n",
    "      POT = re.sub('<td.*\">|</td>|<.*>','',str(i.find('td',{\"class\":\"col col-pt\"})))\n",
    "      Team = re.sub('<a.*title=\"|\">.*/>|<a.*/\">|</a>|amp;','',str(i.findAll('a')[-1]))\n",
    "      Duration = re.sub('<div.*\\n|</div>| <.*','',str(i.find('div',{\"class\":\"sub\"})))\n",
    "      Value = re.sub('<td.*\">€|</td>|</td>|K|M','',str(i.find('td',{\"class\":\"col col-vl\"})))\n",
    "      Wage = re.sub('<td.*\">€|</td>|</td>|K','',str(i.find('td',{\"class\":\"col col-wg\"})))\n",
    "      Total_stats = re.sub('<td.*\">|</.*td>','',str(i.find('td',{\"class\":\"col col-tt\"})))\n",
    "      Hits = re.sub('<td.*\">\\n|K.*</td>|</td>','',str(i.find('td',{\"class\":\"col-comment\"})))\n",
    "\n",
    "      image_link.append(Image_link)\n",
    "      name.append(Name)\n",
    "      position.append(Position)\n",
    "      age.append(Age)\n",
    "      ova.append(OVA)\n",
    "      pot.append(POT)\n",
    "      team.append(Team)\n",
    "      duration.append(Duration)\n",
    "      value.append(Value)\n",
    "      wage.append(Wage)\n",
    "      total_stats.append(Total_stats)\n",
    "      hits.append(Hits)\n",
    "    df =pd.DataFrame({'Image_link':image_link,'Name':name,'Position':position,'Age':age,'OVA':ova,'POT':pot,'Team':team,'Duration':duration,'Value':value,'Wage':wage,'Total_stats':total_stats,'Hits':hits})\n",
    "    df.drop(0,inplace=True)\n",
    "    df['Age']=pd.to_numeric(df['Age'])\n",
    "    df['OVA']=pd.to_numeric(df['OVA'])\n",
    "    df['POT']=pd.to_numeric(df['POT'])\n",
    "    df['Value']=pd.to_numeric(df['Value'])\n",
    "    df['Wage']=pd.to_numeric(df['Wage'])\n",
    "    df['Total_stats']=pd.to_numeric(df['Total_stats'])\n",
    "    df['Hits']=pd.to_numeric(df['Hits'])\n",
    "    df_final=df_final.append(df,ignore_index=True)\n",
    "\n",
    "  return df_final    \n",
    "      \n",
    "      \n",
    "      \n",
    "      \n",
    "      \n",
    "      \n",
    "      \n",
    "      \n",
    "      \n",
    "      \n",
    "      \n",
    "\n",
    "    "
   ]
  },
  {
   "cell_type": "code",
   "execution_count": 6,
   "metadata": {
    "executionInfo": {
     "elapsed": 18544,
     "status": "ok",
     "timestamp": 1628690307431,
     "user": {
      "displayName": "Parthesh Haswar",
      "photoUrl": "",
      "userId": "05178899820139619481"
     },
     "user_tz": -330
    },
    "id": "MwcAeR9n5xTx"
   },
   "outputs": [],
   "source": [
    "fifa_599=fifa_dataset('https://sofifa.com/players?offset=')"
   ]
  },
  {
   "cell_type": "code",
   "execution_count": 7,
   "metadata": {
    "executionInfo": {
     "elapsed": 519,
     "status": "ok",
     "timestamp": 1628690330269,
     "user": {
      "displayName": "Parthesh Haswar",
      "photoUrl": "",
      "userId": "05178899820139619481"
     },
     "user_tz": -330
    },
    "id": "xjy52NbxZ00A"
   },
   "outputs": [],
   "source": [
    "fifa_600=df_final"
   ]
  },
  {
   "cell_type": "code",
   "execution_count": 8,
   "metadata": {
    "executionInfo": {
     "elapsed": 541,
     "status": "ok",
     "timestamp": 1628690339135,
     "user": {
      "displayName": "Parthesh Haswar",
      "photoUrl": "",
      "userId": "05178899820139619481"
     },
     "user_tz": -330
    },
    "id": "ER6DkgTKbfNP"
   },
   "outputs": [],
   "source": [
    "\n",
    "df_diff = pd.concat([fifa_600,fifa_599]).drop_duplicates(keep=False)"
   ]
  },
  {
   "cell_type": "code",
   "execution_count": 9,
   "metadata": {
    "colab": {
     "base_uri": "https://localhost:8080/",
     "height": 686
    },
    "executionInfo": {
     "elapsed": 516,
     "status": "ok",
     "timestamp": 1628690344846,
     "user": {
      "displayName": "Parthesh Haswar",
      "photoUrl": "",
      "userId": "05178899820139619481"
     },
     "user_tz": -330
    },
    "id": "dnc7ADP0glA5",
    "outputId": "c26e1bc5-2bc9-448a-9e23-f7347131d23e"
   },
   "outputs": [
    {
     "data": {
      "text/html": [
       "<div>\n",
       "<style scoped>\n",
       "    .dataframe tbody tr th:only-of-type {\n",
       "        vertical-align: middle;\n",
       "    }\n",
       "\n",
       "    .dataframe tbody tr th {\n",
       "        vertical-align: top;\n",
       "    }\n",
       "\n",
       "    .dataframe thead th {\n",
       "        text-align: right;\n",
       "    }\n",
       "</style>\n",
       "<table border=\"1\" class=\"dataframe\">\n",
       "  <thead>\n",
       "    <tr style=\"text-align: right;\">\n",
       "      <th></th>\n",
       "      <th>Image_link</th>\n",
       "      <th>Name</th>\n",
       "      <th>Position</th>\n",
       "      <th>Age</th>\n",
       "      <th>OVA</th>\n",
       "      <th>POT</th>\n",
       "      <th>Team</th>\n",
       "      <th>Duration</th>\n",
       "      <th>Value</th>\n",
       "      <th>Wage</th>\n",
       "      <th>Total_stats</th>\n",
       "      <th>Hits</th>\n",
       "    </tr>\n",
       "  </thead>\n",
       "  <tbody>\n",
       "  </tbody>\n",
       "</table>\n",
       "</div>"
      ],
      "text/plain": [
       "Empty DataFrame\n",
       "Columns: [Image_link, Name, Position, Age, OVA, POT, Team, Duration, Value, Wage, Total_stats, Hits]\n",
       "Index: []"
      ]
     },
     "execution_count": 9,
     "metadata": {},
     "output_type": "execute_result"
    }
   ],
   "source": [
    "df_diff"
   ]
  },
  {
   "cell_type": "code",
   "execution_count": 10,
   "metadata": {
    "colab": {
     "base_uri": "https://localhost:8080/"
    },
    "executionInfo": {
     "elapsed": 795,
     "status": "ok",
     "timestamp": 1628690626143,
     "user": {
      "displayName": "Parthesh Haswar",
      "photoUrl": "",
      "userId": "05178899820139619481"
     },
     "user_tz": -330
    },
    "id": "PtrTlDT2gmah",
    "outputId": "663b4268-e224-4b2d-b05c-5bc97af22e26"
   },
   "outputs": [
    {
     "data": {
      "text/plain": [
       "True"
      ]
     },
     "execution_count": 10,
     "metadata": {},
     "output_type": "execute_result"
    }
   ],
   "source": [
    "fifa_600.equals(fifa_599)"
   ]
  },
  {
   "cell_type": "code",
   "execution_count": 11,
   "metadata": {
    "colab": {
     "base_uri": "https://localhost:8080/"
    },
    "executionInfo": {
     "elapsed": 503,
     "status": "ok",
     "timestamp": 1628690773693,
     "user": {
      "displayName": "Parthesh Haswar",
      "photoUrl": "",
      "userId": "05178899820139619481"
     },
     "user_tz": -330
    },
    "id": "Sr78ynUrhrBW",
    "outputId": "ca7278bd-3001-48e7-9e35-25a3514a9253"
   },
   "outputs": [
    {
     "name": "stdout",
     "output_type": "stream",
     "text": [
      "<class 'pandas.core.frame.DataFrame'>\n",
      "RangeIndex: 600 entries, 0 to 599\n",
      "Data columns (total 12 columns):\n",
      " #   Column       Non-Null Count  Dtype  \n",
      "---  ------       --------------  -----  \n",
      " 0   Image_link   600 non-null    object \n",
      " 1   Name         600 non-null    object \n",
      " 2   Position     600 non-null    object \n",
      " 3   Age          600 non-null    int64  \n",
      " 4   OVA          600 non-null    int64  \n",
      " 5   POT          600 non-null    int64  \n",
      " 6   Team         600 non-null    object \n",
      " 7   Duration     600 non-null    object \n",
      " 8   Value        600 non-null    float64\n",
      " 9   Wage         600 non-null    int64  \n",
      " 10  Total_stats  600 non-null    int64  \n",
      " 11  Hits         600 non-null    float64\n",
      "dtypes: float64(2), int64(5), object(5)\n",
      "memory usage: 56.4+ KB\n"
     ]
    }
   ],
   "source": [
    "# Considering fifa_600\n",
    "fifa_600.info()"
   ]
  },
  {
   "cell_type": "code",
   "execution_count": 12,
   "metadata": {
    "executionInfo": {
     "elapsed": 751,
     "status": "ok",
     "timestamp": 1628690859730,
     "user": {
      "displayName": "Parthesh Haswar",
      "photoUrl": "",
      "userId": "05178899820139619481"
     },
     "user_tz": -330
    },
    "id": "msu591GMiO34"
   },
   "outputs": [],
   "source": [
    "fifa_600.drop(['Image_link','Duration'],inplace=True,axis=1)"
   ]
  },
  {
   "cell_type": "code",
   "execution_count": 13,
   "metadata": {
    "colab": {
     "base_uri": "https://localhost:8080/",
     "height": 653
    },
    "executionInfo": {
     "elapsed": 572,
     "status": "ok",
     "timestamp": 1628690895686,
     "user": {
      "displayName": "Parthesh Haswar",
      "photoUrl": "",
      "userId": "05178899820139619481"
     },
     "user_tz": -330
    },
    "id": "JVwweW2diWtc",
    "outputId": "ba273914-1f8e-424e-8bef-375b34935f49"
   },
   "outputs": [
    {
     "data": {
      "text/html": [
       "<div>\n",
       "<style scoped>\n",
       "    .dataframe tbody tr th:only-of-type {\n",
       "        vertical-align: middle;\n",
       "    }\n",
       "\n",
       "    .dataframe tbody tr th {\n",
       "        vertical-align: top;\n",
       "    }\n",
       "\n",
       "    .dataframe thead th {\n",
       "        text-align: right;\n",
       "    }\n",
       "</style>\n",
       "<table border=\"1\" class=\"dataframe\">\n",
       "  <thead>\n",
       "    <tr style=\"text-align: right;\">\n",
       "      <th></th>\n",
       "      <th>Name</th>\n",
       "      <th>Position</th>\n",
       "      <th>Age</th>\n",
       "      <th>OVA</th>\n",
       "      <th>POT</th>\n",
       "      <th>Team</th>\n",
       "      <th>Value</th>\n",
       "      <th>Wage</th>\n",
       "      <th>Total_stats</th>\n",
       "      <th>Hits</th>\n",
       "    </tr>\n",
       "  </thead>\n",
       "  <tbody>\n",
       "    <tr>\n",
       "      <th>0</th>\n",
       "      <td>Kepa Arrizabalaga</td>\n",
       "      <td>GK</td>\n",
       "      <td>25</td>\n",
       "      <td>79</td>\n",
       "      <td>83</td>\n",
       "      <td>Chelsea</td>\n",
       "      <td>19.0</td>\n",
       "      <td>62</td>\n",
       "      <td>1299</td>\n",
       "      <td>4.9</td>\n",
       "    </tr>\n",
       "    <tr>\n",
       "      <th>1</th>\n",
       "      <td>Denzel Dumfries</td>\n",
       "      <td>RB</td>\n",
       "      <td>24</td>\n",
       "      <td>80</td>\n",
       "      <td>83</td>\n",
       "      <td>PSV</td>\n",
       "      <td>26.5</td>\n",
       "      <td>19</td>\n",
       "      <td>2006</td>\n",
       "      <td>4.4</td>\n",
       "    </tr>\n",
       "    <tr>\n",
       "      <th>2</th>\n",
       "      <td>Arnaut Danjuma</td>\n",
       "      <td>LM</td>\n",
       "      <td>23</td>\n",
       "      <td>76</td>\n",
       "      <td>80</td>\n",
       "      <td>Bournemouth</td>\n",
       "      <td>11.0</td>\n",
       "      <td>13</td>\n",
       "      <td>1875</td>\n",
       "      <td>3.3</td>\n",
       "    </tr>\n",
       "    <tr>\n",
       "      <th>3</th>\n",
       "      <td>Lionel Messi</td>\n",
       "      <td>RW</td>\n",
       "      <td>33</td>\n",
       "      <td>93</td>\n",
       "      <td>93</td>\n",
       "      <td>FC Barcelona</td>\n",
       "      <td>103.5</td>\n",
       "      <td>560</td>\n",
       "      <td>2231</td>\n",
       "      <td>3.0</td>\n",
       "    </tr>\n",
       "    <tr>\n",
       "      <th>4</th>\n",
       "      <td>Daniel Alves da Silva</td>\n",
       "      <td>RB</td>\n",
       "      <td>35</td>\n",
       "      <td>82</td>\n",
       "      <td>82</td>\n",
       "      <td>Paris Saint-Germain</td>\n",
       "      <td>4.8</td>\n",
       "      <td>60</td>\n",
       "      <td>2205</td>\n",
       "      <td>2.9</td>\n",
       "    </tr>\n",
       "    <tr>\n",
       "      <th>...</th>\n",
       "      <td>...</td>\n",
       "      <td>...</td>\n",
       "      <td>...</td>\n",
       "      <td>...</td>\n",
       "      <td>...</td>\n",
       "      <td>...</td>\n",
       "      <td>...</td>\n",
       "      <td>...</td>\n",
       "      <td>...</td>\n",
       "      <td>...</td>\n",
       "    </tr>\n",
       "    <tr>\n",
       "      <th>595</th>\n",
       "      <td>Xherdan Shaqiri</td>\n",
       "      <td>RW</td>\n",
       "      <td>28</td>\n",
       "      <td>79</td>\n",
       "      <td>79</td>\n",
       "      <td>Liverpool</td>\n",
       "      <td>17.5</td>\n",
       "      <td>100</td>\n",
       "      <td>2050</td>\n",
       "      <td>701.0</td>\n",
       "    </tr>\n",
       "    <tr>\n",
       "      <th>596</th>\n",
       "      <td>Harvey Elliott</td>\n",
       "      <td>RW</td>\n",
       "      <td>17</td>\n",
       "      <td>72</td>\n",
       "      <td>87</td>\n",
       "      <td>Blackburn Rovers</td>\n",
       "      <td>5.5</td>\n",
       "      <td>11</td>\n",
       "      <td>1658</td>\n",
       "      <td>681.0</td>\n",
       "    </tr>\n",
       "    <tr>\n",
       "      <th>597</th>\n",
       "      <td>Mason Greenwood</td>\n",
       "      <td>RM</td>\n",
       "      <td>18</td>\n",
       "      <td>78</td>\n",
       "      <td>89</td>\n",
       "      <td>Manchester United</td>\n",
       "      <td>29.5</td>\n",
       "      <td>35</td>\n",
       "      <td>1937</td>\n",
       "      <td>680.0</td>\n",
       "    </tr>\n",
       "    <tr>\n",
       "      <th>598</th>\n",
       "      <td>Phil Foden</td>\n",
       "      <td>CAM</td>\n",
       "      <td>20</td>\n",
       "      <td>83</td>\n",
       "      <td>92</td>\n",
       "      <td>Manchester City</td>\n",
       "      <td>79.5</td>\n",
       "      <td>115</td>\n",
       "      <td>2035</td>\n",
       "      <td>673.0</td>\n",
       "    </tr>\n",
       "    <tr>\n",
       "      <th>599</th>\n",
       "      <td>Alphonso Davies</td>\n",
       "      <td>LB</td>\n",
       "      <td>19</td>\n",
       "      <td>81</td>\n",
       "      <td>89</td>\n",
       "      <td>FC Bayern München</td>\n",
       "      <td>53.0</td>\n",
       "      <td>40</td>\n",
       "      <td>2106</td>\n",
       "      <td>669.0</td>\n",
       "    </tr>\n",
       "  </tbody>\n",
       "</table>\n",
       "<p>600 rows × 10 columns</p>\n",
       "</div>"
      ],
      "text/plain": [
       "                      Name Position  Age  OVA  POT                 Team  \\\n",
       "0        Kepa Arrizabalaga       GK   25   79   83              Chelsea   \n",
       "1          Denzel Dumfries       RB   24   80   83                  PSV   \n",
       "2           Arnaut Danjuma       LM   23   76   80          Bournemouth   \n",
       "3             Lionel Messi       RW   33   93   93         FC Barcelona   \n",
       "4    Daniel Alves da Silva       RB   35   82   82  Paris Saint-Germain   \n",
       "..                     ...      ...  ...  ...  ...                  ...   \n",
       "595        Xherdan Shaqiri       RW   28   79   79            Liverpool   \n",
       "596         Harvey Elliott       RW   17   72   87     Blackburn Rovers   \n",
       "597        Mason Greenwood       RM   18   78   89    Manchester United   \n",
       "598             Phil Foden      CAM   20   83   92      Manchester City   \n",
       "599        Alphonso Davies       LB   19   81   89    FC Bayern München   \n",
       "\n",
       "     Value  Wage  Total_stats   Hits  \n",
       "0     19.0    62         1299    4.9  \n",
       "1     26.5    19         2006    4.4  \n",
       "2     11.0    13         1875    3.3  \n",
       "3    103.5   560         2231    3.0  \n",
       "4      4.8    60         2205    2.9  \n",
       "..     ...   ...          ...    ...  \n",
       "595   17.5   100         2050  701.0  \n",
       "596    5.5    11         1658  681.0  \n",
       "597   29.5    35         1937  680.0  \n",
       "598   79.5   115         2035  673.0  \n",
       "599   53.0    40         2106  669.0  \n",
       "\n",
       "[600 rows x 10 columns]"
      ]
     },
     "execution_count": 13,
     "metadata": {},
     "output_type": "execute_result"
    }
   ],
   "source": [
    "fifa_600"
   ]
  },
  {
   "cell_type": "code",
   "execution_count": 14,
   "metadata": {
    "executionInfo": {
     "elapsed": 505,
     "status": "ok",
     "timestamp": 1628690956371,
     "user": {
      "displayName": "Parthesh Haswar",
      "photoUrl": "",
      "userId": "05178899820139619481"
     },
     "user_tz": -330
    },
    "id": "NyLNNnw2is4f"
   },
   "outputs": [],
   "source": [
    "## EDA\n"
   ]
  },
  {
   "cell_type": "code",
   "execution_count": 15,
   "metadata": {
    "colab": {
     "base_uri": "https://localhost:8080/",
     "height": 1000
    },
    "executionInfo": {
     "elapsed": 779,
     "status": "ok",
     "timestamp": 1628690983297,
     "user": {
      "displayName": "Parthesh Haswar",
      "photoUrl": "",
      "userId": "05178899820139619481"
     },
     "user_tz": -330
    },
    "id": "aZLyIWTBi7tq",
    "outputId": "5eb3e838-f4fe-4f0c-e8c7-be3b9462ed3b"
   },
   "outputs": [
    {
     "data": {
      "text/html": [
       "<div>\n",
       "<style scoped>\n",
       "    .dataframe tbody tr th:only-of-type {\n",
       "        vertical-align: middle;\n",
       "    }\n",
       "\n",
       "    .dataframe tbody tr th {\n",
       "        vertical-align: top;\n",
       "    }\n",
       "\n",
       "    .dataframe thead th {\n",
       "        text-align: right;\n",
       "    }\n",
       "</style>\n",
       "<table border=\"1\" class=\"dataframe\">\n",
       "  <thead>\n",
       "    <tr style=\"text-align: right;\">\n",
       "      <th></th>\n",
       "      <th>Name</th>\n",
       "      <th>Position</th>\n",
       "      <th>Age</th>\n",
       "      <th>OVA</th>\n",
       "      <th>POT</th>\n",
       "      <th>Team</th>\n",
       "      <th>Value</th>\n",
       "      <th>Wage</th>\n",
       "      <th>Total_stats</th>\n",
       "      <th>Hits</th>\n",
       "    </tr>\n",
       "  </thead>\n",
       "  <tbody>\n",
       "    <tr>\n",
       "      <th>0</th>\n",
       "      <td>Kepa Arrizabalaga</td>\n",
       "      <td>GK</td>\n",
       "      <td>25</td>\n",
       "      <td>79</td>\n",
       "      <td>83</td>\n",
       "      <td>Chelsea</td>\n",
       "      <td>19.0</td>\n",
       "      <td>62</td>\n",
       "      <td>1299</td>\n",
       "      <td>4.9</td>\n",
       "    </tr>\n",
       "    <tr>\n",
       "      <th>1</th>\n",
       "      <td>Denzel Dumfries</td>\n",
       "      <td>RB</td>\n",
       "      <td>24</td>\n",
       "      <td>80</td>\n",
       "      <td>83</td>\n",
       "      <td>PSV</td>\n",
       "      <td>26.5</td>\n",
       "      <td>19</td>\n",
       "      <td>2006</td>\n",
       "      <td>4.4</td>\n",
       "    </tr>\n",
       "    <tr>\n",
       "      <th>2</th>\n",
       "      <td>Arnaut Danjuma</td>\n",
       "      <td>LM</td>\n",
       "      <td>23</td>\n",
       "      <td>76</td>\n",
       "      <td>80</td>\n",
       "      <td>Bournemouth</td>\n",
       "      <td>11.0</td>\n",
       "      <td>13</td>\n",
       "      <td>1875</td>\n",
       "      <td>3.3</td>\n",
       "    </tr>\n",
       "    <tr>\n",
       "      <th>3</th>\n",
       "      <td>Lionel Messi</td>\n",
       "      <td>RW</td>\n",
       "      <td>33</td>\n",
       "      <td>93</td>\n",
       "      <td>93</td>\n",
       "      <td>FC Barcelona</td>\n",
       "      <td>103.5</td>\n",
       "      <td>560</td>\n",
       "      <td>2231</td>\n",
       "      <td>3.0</td>\n",
       "    </tr>\n",
       "    <tr>\n",
       "      <th>4</th>\n",
       "      <td>Daniel Alves da Silva</td>\n",
       "      <td>RB</td>\n",
       "      <td>35</td>\n",
       "      <td>82</td>\n",
       "      <td>82</td>\n",
       "      <td>Paris Saint-Germain</td>\n",
       "      <td>4.8</td>\n",
       "      <td>60</td>\n",
       "      <td>2205</td>\n",
       "      <td>2.9</td>\n",
       "    </tr>\n",
       "    <tr>\n",
       "      <th>5</th>\n",
       "      <td>João Maria Palhinha Gonçalves</td>\n",
       "      <td>CDM</td>\n",
       "      <td>24</td>\n",
       "      <td>82</td>\n",
       "      <td>87</td>\n",
       "      <td>Sporting CP</td>\n",
       "      <td>42.0</td>\n",
       "      <td>16</td>\n",
       "      <td>1996</td>\n",
       "      <td>2.6</td>\n",
       "    </tr>\n",
       "    <tr>\n",
       "      <th>6</th>\n",
       "      <td>Yacine Adli</td>\n",
       "      <td>CM</td>\n",
       "      <td>19</td>\n",
       "      <td>72</td>\n",
       "      <td>82</td>\n",
       "      <td>FC Girondins de Bordeaux</td>\n",
       "      <td>5.0</td>\n",
       "      <td>12</td>\n",
       "      <td>1918</td>\n",
       "      <td>2.1</td>\n",
       "    </tr>\n",
       "    <tr>\n",
       "      <th>7</th>\n",
       "      <td>Jérémy Doku</td>\n",
       "      <td>RW</td>\n",
       "      <td>18</td>\n",
       "      <td>74</td>\n",
       "      <td>86</td>\n",
       "      <td>Stade Rennais FC</td>\n",
       "      <td>10.0</td>\n",
       "      <td>16</td>\n",
       "      <td>1750</td>\n",
       "      <td>1.9</td>\n",
       "    </tr>\n",
       "    <tr>\n",
       "      <th>8</th>\n",
       "      <td>Jaminton Campaz</td>\n",
       "      <td>CAM</td>\n",
       "      <td>20</td>\n",
       "      <td>71</td>\n",
       "      <td>83</td>\n",
       "      <td>Deportes Tolima</td>\n",
       "      <td>4.5</td>\n",
       "      <td>1</td>\n",
       "      <td>1633</td>\n",
       "      <td>1.8</td>\n",
       "    </tr>\n",
       "    <tr>\n",
       "      <th>9</th>\n",
       "      <td>Kylian Mbappé</td>\n",
       "      <td>ST</td>\n",
       "      <td>21</td>\n",
       "      <td>90</td>\n",
       "      <td>95</td>\n",
       "      <td>Paris Saint-Germain</td>\n",
       "      <td>185.5</td>\n",
       "      <td>160</td>\n",
       "      <td>2157</td>\n",
       "      <td>1.8</td>\n",
       "    </tr>\n",
       "    <tr>\n",
       "      <th>10</th>\n",
       "      <td>Gonzalo Montiel</td>\n",
       "      <td>RB</td>\n",
       "      <td>23</td>\n",
       "      <td>78</td>\n",
       "      <td>85</td>\n",
       "      <td>River Plate</td>\n",
       "      <td>27.0</td>\n",
       "      <td>15</td>\n",
       "      <td>2013</td>\n",
       "      <td>1.8</td>\n",
       "    </tr>\n",
       "    <tr>\n",
       "      <th>11</th>\n",
       "      <td>Jannik Vestergaard</td>\n",
       "      <td>CB</td>\n",
       "      <td>27</td>\n",
       "      <td>78</td>\n",
       "      <td>79</td>\n",
       "      <td>Southampton</td>\n",
       "      <td>14.0</td>\n",
       "      <td>51</td>\n",
       "      <td>1710</td>\n",
       "      <td>1.7</td>\n",
       "    </tr>\n",
       "    <tr>\n",
       "      <th>12</th>\n",
       "      <td>Pedro González López</td>\n",
       "      <td>CM</td>\n",
       "      <td>17</td>\n",
       "      <td>77</td>\n",
       "      <td>91</td>\n",
       "      <td>FC Barcelona</td>\n",
       "      <td>24.0</td>\n",
       "      <td>15</td>\n",
       "      <td>1947</td>\n",
       "      <td>1.6</td>\n",
       "    </tr>\n",
       "    <tr>\n",
       "      <th>13</th>\n",
       "      <td>Yusuf Demir</td>\n",
       "      <td>CAM</td>\n",
       "      <td>17</td>\n",
       "      <td>67</td>\n",
       "      <td>88</td>\n",
       "      <td>SK Rapid Wien</td>\n",
       "      <td>3.2</td>\n",
       "      <td>1</td>\n",
       "      <td>1653</td>\n",
       "      <td>1.6</td>\n",
       "    </tr>\n",
       "    <tr>\n",
       "      <th>14</th>\n",
       "      <td>Achraf Hakimi</td>\n",
       "      <td>RM</td>\n",
       "      <td>21</td>\n",
       "      <td>83</td>\n",
       "      <td>88</td>\n",
       "      <td>Inter</td>\n",
       "      <td>56.0</td>\n",
       "      <td>90</td>\n",
       "      <td>2150</td>\n",
       "      <td>1.5</td>\n",
       "    </tr>\n",
       "    <tr>\n",
       "      <th>15</th>\n",
       "      <td>Jack Grealish</td>\n",
       "      <td>LW</td>\n",
       "      <td>24</td>\n",
       "      <td>83</td>\n",
       "      <td>86</td>\n",
       "      <td>Aston Villa</td>\n",
       "      <td>49.5</td>\n",
       "      <td>82</td>\n",
       "      <td>2015</td>\n",
       "      <td>1.4</td>\n",
       "    </tr>\n",
       "    <tr>\n",
       "      <th>16</th>\n",
       "      <td>Victor Nelsson</td>\n",
       "      <td>CB</td>\n",
       "      <td>21</td>\n",
       "      <td>73</td>\n",
       "      <td>82</td>\n",
       "      <td>FC København</td>\n",
       "      <td>6.5</td>\n",
       "      <td>11</td>\n",
       "      <td>1783</td>\n",
       "      <td>1.4</td>\n",
       "    </tr>\n",
       "    <tr>\n",
       "      <th>17</th>\n",
       "      <td>Corentin Tolisso</td>\n",
       "      <td>CM</td>\n",
       "      <td>25</td>\n",
       "      <td>80</td>\n",
       "      <td>80</td>\n",
       "      <td>FC Bayern München</td>\n",
       "      <td>23.0</td>\n",
       "      <td>74</td>\n",
       "      <td>2194</td>\n",
       "      <td>1.3</td>\n",
       "    </tr>\n",
       "    <tr>\n",
       "      <th>18</th>\n",
       "      <td>Dušan Vlahović</td>\n",
       "      <td>ST</td>\n",
       "      <td>20</td>\n",
       "      <td>76</td>\n",
       "      <td>83</td>\n",
       "      <td>Fiorentina</td>\n",
       "      <td>15.0</td>\n",
       "      <td>38</td>\n",
       "      <td>1744</td>\n",
       "      <td>1.2</td>\n",
       "    </tr>\n",
       "    <tr>\n",
       "      <th>19</th>\n",
       "      <td>Noni Madueke</td>\n",
       "      <td>RM</td>\n",
       "      <td>18</td>\n",
       "      <td>74</td>\n",
       "      <td>87</td>\n",
       "      <td>PSV</td>\n",
       "      <td>10.0</td>\n",
       "      <td>6</td>\n",
       "      <td>1842</td>\n",
       "      <td>1.2</td>\n",
       "    </tr>\n",
       "  </tbody>\n",
       "</table>\n",
       "</div>"
      ],
      "text/plain": [
       "                             Name Position  Age  OVA  POT  \\\n",
       "0               Kepa Arrizabalaga       GK   25   79   83   \n",
       "1                 Denzel Dumfries       RB   24   80   83   \n",
       "2                  Arnaut Danjuma       LM   23   76   80   \n",
       "3                    Lionel Messi       RW   33   93   93   \n",
       "4           Daniel Alves da Silva       RB   35   82   82   \n",
       "5   João Maria Palhinha Gonçalves      CDM   24   82   87   \n",
       "6                     Yacine Adli       CM   19   72   82   \n",
       "7                     Jérémy Doku       RW   18   74   86   \n",
       "8                 Jaminton Campaz      CAM   20   71   83   \n",
       "9                   Kylian Mbappé       ST   21   90   95   \n",
       "10                Gonzalo Montiel       RB   23   78   85   \n",
       "11             Jannik Vestergaard       CB   27   78   79   \n",
       "12           Pedro González López       CM   17   77   91   \n",
       "13                    Yusuf Demir      CAM   17   67   88   \n",
       "14                  Achraf Hakimi       RM   21   83   88   \n",
       "15                  Jack Grealish       LW   24   83   86   \n",
       "16                 Victor Nelsson       CB   21   73   82   \n",
       "17               Corentin Tolisso       CM   25   80   80   \n",
       "18                 Dušan Vlahović       ST   20   76   83   \n",
       "19                   Noni Madueke       RM   18   74   87   \n",
       "\n",
       "                        Team  Value  Wage  Total_stats  Hits  \n",
       "0                    Chelsea   19.0    62         1299   4.9  \n",
       "1                        PSV   26.5    19         2006   4.4  \n",
       "2                Bournemouth   11.0    13         1875   3.3  \n",
       "3               FC Barcelona  103.5   560         2231   3.0  \n",
       "4        Paris Saint-Germain    4.8    60         2205   2.9  \n",
       "5                Sporting CP   42.0    16         1996   2.6  \n",
       "6   FC Girondins de Bordeaux    5.0    12         1918   2.1  \n",
       "7           Stade Rennais FC   10.0    16         1750   1.9  \n",
       "8            Deportes Tolima    4.5     1         1633   1.8  \n",
       "9        Paris Saint-Germain  185.5   160         2157   1.8  \n",
       "10               River Plate   27.0    15         2013   1.8  \n",
       "11               Southampton   14.0    51         1710   1.7  \n",
       "12              FC Barcelona   24.0    15         1947   1.6  \n",
       "13             SK Rapid Wien    3.2     1         1653   1.6  \n",
       "14                     Inter   56.0    90         2150   1.5  \n",
       "15               Aston Villa   49.5    82         2015   1.4  \n",
       "16              FC København    6.5    11         1783   1.4  \n",
       "17         FC Bayern München   23.0    74         2194   1.3  \n",
       "18                Fiorentina   15.0    38         1744   1.2  \n",
       "19                       PSV   10.0     6         1842   1.2  "
      ]
     },
     "execution_count": 15,
     "metadata": {},
     "output_type": "execute_result"
    }
   ],
   "source": [
    "fifa_600.head(20)"
   ]
  },
  {
   "cell_type": "code",
   "execution_count": 16,
   "metadata": {
    "colab": {
     "base_uri": "https://localhost:8080/",
     "height": 512
    },
    "executionInfo": {
     "elapsed": 12,
     "status": "ok",
     "timestamp": 1628691043484,
     "user": {
      "displayName": "Parthesh Haswar",
      "photoUrl": "",
      "userId": "05178899820139619481"
     },
     "user_tz": -330
    },
    "id": "X-OetVEAjCOR",
    "outputId": "2fd869ad-84bd-4d3d-ed3a-15b2bcca67ce"
   },
   "outputs": [
    {
     "data": {
      "text/html": [
       "<div>\n",
       "<style scoped>\n",
       "    .dataframe tbody tr th:only-of-type {\n",
       "        vertical-align: middle;\n",
       "    }\n",
       "\n",
       "    .dataframe tbody tr th {\n",
       "        vertical-align: top;\n",
       "    }\n",
       "\n",
       "    .dataframe thead th {\n",
       "        text-align: right;\n",
       "    }\n",
       "</style>\n",
       "<table border=\"1\" class=\"dataframe\">\n",
       "  <thead>\n",
       "    <tr style=\"text-align: right;\">\n",
       "      <th></th>\n",
       "      <th>Name</th>\n",
       "      <th>Position</th>\n",
       "      <th>Age</th>\n",
       "      <th>OVA</th>\n",
       "      <th>POT</th>\n",
       "      <th>Team</th>\n",
       "      <th>Value</th>\n",
       "      <th>Wage</th>\n",
       "      <th>Total_stats</th>\n",
       "      <th>Hits</th>\n",
       "    </tr>\n",
       "  </thead>\n",
       "  <tbody>\n",
       "    <tr>\n",
       "      <th>591</th>\n",
       "      <td>Florian Wirtz</td>\n",
       "      <td>CAM</td>\n",
       "      <td>17</td>\n",
       "      <td>76</td>\n",
       "      <td>89</td>\n",
       "      <td>Bayer 04 Leverkusen</td>\n",
       "      <td>17.0</td>\n",
       "      <td>7</td>\n",
       "      <td>1897</td>\n",
       "      <td>715.0</td>\n",
       "    </tr>\n",
       "    <tr>\n",
       "      <th>592</th>\n",
       "      <td>Ibrahima Konaté</td>\n",
       "      <td>CB</td>\n",
       "      <td>21</td>\n",
       "      <td>78</td>\n",
       "      <td>87</td>\n",
       "      <td>RB Leipzig</td>\n",
       "      <td>29.5</td>\n",
       "      <td>33</td>\n",
       "      <td>1725</td>\n",
       "      <td>711.0</td>\n",
       "    </tr>\n",
       "    <tr>\n",
       "      <th>593</th>\n",
       "      <td>Jules Koundé</td>\n",
       "      <td>CB</td>\n",
       "      <td>21</td>\n",
       "      <td>82</td>\n",
       "      <td>88</td>\n",
       "      <td>Sevilla FC</td>\n",
       "      <td>44.5</td>\n",
       "      <td>25</td>\n",
       "      <td>1909</td>\n",
       "      <td>706.0</td>\n",
       "    </tr>\n",
       "    <tr>\n",
       "      <th>594</th>\n",
       "      <td>Kyogo Furuhashi</td>\n",
       "      <td>ST</td>\n",
       "      <td>25</td>\n",
       "      <td>70</td>\n",
       "      <td>71</td>\n",
       "      <td>Vissel Kobe</td>\n",
       "      <td>1.9</td>\n",
       "      <td>6</td>\n",
       "      <td>1892</td>\n",
       "      <td>704.0</td>\n",
       "    </tr>\n",
       "    <tr>\n",
       "      <th>595</th>\n",
       "      <td>Xherdan Shaqiri</td>\n",
       "      <td>RW</td>\n",
       "      <td>28</td>\n",
       "      <td>79</td>\n",
       "      <td>79</td>\n",
       "      <td>Liverpool</td>\n",
       "      <td>17.5</td>\n",
       "      <td>100</td>\n",
       "      <td>2050</td>\n",
       "      <td>701.0</td>\n",
       "    </tr>\n",
       "    <tr>\n",
       "      <th>596</th>\n",
       "      <td>Harvey Elliott</td>\n",
       "      <td>RW</td>\n",
       "      <td>17</td>\n",
       "      <td>72</td>\n",
       "      <td>87</td>\n",
       "      <td>Blackburn Rovers</td>\n",
       "      <td>5.5</td>\n",
       "      <td>11</td>\n",
       "      <td>1658</td>\n",
       "      <td>681.0</td>\n",
       "    </tr>\n",
       "    <tr>\n",
       "      <th>597</th>\n",
       "      <td>Mason Greenwood</td>\n",
       "      <td>RM</td>\n",
       "      <td>18</td>\n",
       "      <td>78</td>\n",
       "      <td>89</td>\n",
       "      <td>Manchester United</td>\n",
       "      <td>29.5</td>\n",
       "      <td>35</td>\n",
       "      <td>1937</td>\n",
       "      <td>680.0</td>\n",
       "    </tr>\n",
       "    <tr>\n",
       "      <th>598</th>\n",
       "      <td>Phil Foden</td>\n",
       "      <td>CAM</td>\n",
       "      <td>20</td>\n",
       "      <td>83</td>\n",
       "      <td>92</td>\n",
       "      <td>Manchester City</td>\n",
       "      <td>79.5</td>\n",
       "      <td>115</td>\n",
       "      <td>2035</td>\n",
       "      <td>673.0</td>\n",
       "    </tr>\n",
       "    <tr>\n",
       "      <th>599</th>\n",
       "      <td>Alphonso Davies</td>\n",
       "      <td>LB</td>\n",
       "      <td>19</td>\n",
       "      <td>81</td>\n",
       "      <td>89</td>\n",
       "      <td>FC Bayern München</td>\n",
       "      <td>53.0</td>\n",
       "      <td>40</td>\n",
       "      <td>2106</td>\n",
       "      <td>669.0</td>\n",
       "    </tr>\n",
       "  </tbody>\n",
       "</table>\n",
       "</div>"
      ],
      "text/plain": [
       "                Name Position  Age  OVA  POT                 Team  Value  \\\n",
       "591    Florian Wirtz      CAM   17   76   89  Bayer 04 Leverkusen   17.0   \n",
       "592  Ibrahima Konaté       CB   21   78   87           RB Leipzig   29.5   \n",
       "593     Jules Koundé       CB   21   82   88           Sevilla FC   44.5   \n",
       "594  Kyogo Furuhashi       ST   25   70   71          Vissel Kobe    1.9   \n",
       "595  Xherdan Shaqiri       RW   28   79   79            Liverpool   17.5   \n",
       "596   Harvey Elliott       RW   17   72   87     Blackburn Rovers    5.5   \n",
       "597  Mason Greenwood       RM   18   78   89    Manchester United   29.5   \n",
       "598       Phil Foden      CAM   20   83   92      Manchester City   79.5   \n",
       "599  Alphonso Davies       LB   19   81   89    FC Bayern München   53.0   \n",
       "\n",
       "     Wage  Total_stats   Hits  \n",
       "591     7         1897  715.0  \n",
       "592    33         1725  711.0  \n",
       "593    25         1909  706.0  \n",
       "594     6         1892  704.0  \n",
       "595   100         2050  701.0  \n",
       "596    11         1658  681.0  \n",
       "597    35         1937  680.0  \n",
       "598   115         2035  673.0  \n",
       "599    40         2106  669.0  "
      ]
     },
     "execution_count": 16,
     "metadata": {},
     "output_type": "execute_result"
    }
   ],
   "source": [
    "fifa_600.tail(9)"
   ]
  },
  {
   "cell_type": "code",
   "execution_count": 17,
   "metadata": {
    "colab": {
     "base_uri": "https://localhost:8080/",
     "height": 314
    },
    "executionInfo": {
     "elapsed": 13,
     "status": "ok",
     "timestamp": 1628691118386,
     "user": {
      "displayName": "Parthesh Haswar",
      "photoUrl": "",
      "userId": "05178899820139619481"
     },
     "user_tz": -330
    },
    "id": "vQSE5RH7jQ8g",
    "outputId": "52e3bece-7d45-4f53-9706-ea76de688b04"
   },
   "outputs": [
    {
     "data": {
      "text/html": [
       "<div>\n",
       "<style scoped>\n",
       "    .dataframe tbody tr th:only-of-type {\n",
       "        vertical-align: middle;\n",
       "    }\n",
       "\n",
       "    .dataframe tbody tr th {\n",
       "        vertical-align: top;\n",
       "    }\n",
       "\n",
       "    .dataframe thead th {\n",
       "        text-align: right;\n",
       "    }\n",
       "</style>\n",
       "<table border=\"1\" class=\"dataframe\">\n",
       "  <thead>\n",
       "    <tr style=\"text-align: right;\">\n",
       "      <th></th>\n",
       "      <th>Age</th>\n",
       "      <th>OVA</th>\n",
       "      <th>POT</th>\n",
       "      <th>Value</th>\n",
       "      <th>Wage</th>\n",
       "      <th>Total_stats</th>\n",
       "      <th>Hits</th>\n",
       "    </tr>\n",
       "  </thead>\n",
       "  <tbody>\n",
       "    <tr>\n",
       "      <th>count</th>\n",
       "      <td>600.000000</td>\n",
       "      <td>600.00000</td>\n",
       "      <td>600.000000</td>\n",
       "      <td>600.00000</td>\n",
       "      <td>600.000000</td>\n",
       "      <td>600.000000</td>\n",
       "      <td>600.000000</td>\n",
       "    </tr>\n",
       "    <tr>\n",
       "      <th>mean</th>\n",
       "      <td>22.436667</td>\n",
       "      <td>76.42500</td>\n",
       "      <td>83.561667</td>\n",
       "      <td>65.90400</td>\n",
       "      <td>77.163333</td>\n",
       "      <td>1867.533333</td>\n",
       "      <td>377.369667</td>\n",
       "    </tr>\n",
       "    <tr>\n",
       "      <th>std</th>\n",
       "      <td>4.612821</td>\n",
       "      <td>7.04844</td>\n",
       "      <td>6.571009</td>\n",
       "      <td>158.17671</td>\n",
       "      <td>132.255772</td>\n",
       "      <td>246.541823</td>\n",
       "      <td>373.390335</td>\n",
       "    </tr>\n",
       "    <tr>\n",
       "      <th>min</th>\n",
       "      <td>16.000000</td>\n",
       "      <td>55.00000</td>\n",
       "      <td>62.000000</td>\n",
       "      <td>0.00000</td>\n",
       "      <td>0.000000</td>\n",
       "      <td>936.000000</td>\n",
       "      <td>1.000000</td>\n",
       "    </tr>\n",
       "    <tr>\n",
       "      <th>25%</th>\n",
       "      <td>19.000000</td>\n",
       "      <td>72.00000</td>\n",
       "      <td>80.000000</td>\n",
       "      <td>6.00000</td>\n",
       "      <td>11.000000</td>\n",
       "      <td>1725.000000</td>\n",
       "      <td>3.300000</td>\n",
       "    </tr>\n",
       "    <tr>\n",
       "      <th>50%</th>\n",
       "      <td>21.500000</td>\n",
       "      <td>76.00000</td>\n",
       "      <td>85.000000</td>\n",
       "      <td>17.50000</td>\n",
       "      <td>29.000000</td>\n",
       "      <td>1897.000000</td>\n",
       "      <td>370.500000</td>\n",
       "    </tr>\n",
       "    <tr>\n",
       "      <th>75%</th>\n",
       "      <td>25.000000</td>\n",
       "      <td>81.00000</td>\n",
       "      <td>88.000000</td>\n",
       "      <td>44.50000</td>\n",
       "      <td>74.750000</td>\n",
       "      <td>2035.000000</td>\n",
       "      <td>743.000000</td>\n",
       "    </tr>\n",
       "    <tr>\n",
       "      <th>max</th>\n",
       "      <td>38.000000</td>\n",
       "      <td>93.00000</td>\n",
       "      <td>95.000000</td>\n",
       "      <td>950.00000</td>\n",
       "      <td>900.000000</td>\n",
       "      <td>2347.000000</td>\n",
       "      <td>981.000000</td>\n",
       "    </tr>\n",
       "  </tbody>\n",
       "</table>\n",
       "</div>"
      ],
      "text/plain": [
       "              Age        OVA         POT      Value        Wage  Total_stats  \\\n",
       "count  600.000000  600.00000  600.000000  600.00000  600.000000   600.000000   \n",
       "mean    22.436667   76.42500   83.561667   65.90400   77.163333  1867.533333   \n",
       "std      4.612821    7.04844    6.571009  158.17671  132.255772   246.541823   \n",
       "min     16.000000   55.00000   62.000000    0.00000    0.000000   936.000000   \n",
       "25%     19.000000   72.00000   80.000000    6.00000   11.000000  1725.000000   \n",
       "50%     21.500000   76.00000   85.000000   17.50000   29.000000  1897.000000   \n",
       "75%     25.000000   81.00000   88.000000   44.50000   74.750000  2035.000000   \n",
       "max     38.000000   93.00000   95.000000  950.00000  900.000000  2347.000000   \n",
       "\n",
       "             Hits  \n",
       "count  600.000000  \n",
       "mean   377.369667  \n",
       "std    373.390335  \n",
       "min      1.000000  \n",
       "25%      3.300000  \n",
       "50%    370.500000  \n",
       "75%    743.000000  \n",
       "max    981.000000  "
      ]
     },
     "execution_count": 17,
     "metadata": {},
     "output_type": "execute_result"
    }
   ],
   "source": [
    "fifa_600.describe()"
   ]
  },
  {
   "cell_type": "code",
   "execution_count": 18,
   "metadata": {
    "colab": {
     "base_uri": "https://localhost:8080/"
    },
    "executionInfo": {
     "elapsed": 496,
     "status": "ok",
     "timestamp": 1628691895402,
     "user": {
      "displayName": "Parthesh Haswar",
      "photoUrl": "",
      "userId": "05178899820139619481"
     },
     "user_tz": -330
    },
    "id": "6Vi2s2rHjjJN",
    "outputId": "e51714c2-0d1c-4eea-f790-54d9fa5b14a1"
   },
   "outputs": [
    {
     "data": {
      "text/plain": [
       "294    Iain Wilson\n",
       "Name: Name, dtype: object"
      ]
     },
     "execution_count": 18,
     "metadata": {},
     "output_type": "execute_result"
    }
   ],
   "source": [
    "# 1. Find name of player who is having highest wage\n",
    "highest_wage=fifa_600[fifa_600['Wage']==max(fifa_600['Wage'])]['Name']\n",
    "highest_wage"
   ]
  },
  {
   "cell_type": "code",
   "execution_count": 19,
   "metadata": {
    "colab": {
     "base_uri": "https://localhost:8080/"
    },
    "executionInfo": {
     "elapsed": 484,
     "status": "ok",
     "timestamp": 1628691795912,
     "user": {
      "displayName": "Parthesh Haswar",
      "photoUrl": "",
      "userId": "05178899820139619481"
     },
     "user_tz": -330
    },
    "id": "gsHizDFNktFo",
    "outputId": "126fc482-5629-45d8-e82c-c75acef42451"
   },
   "outputs": [
    {
     "data": {
      "text/plain": [
       "336"
      ]
     },
     "execution_count": 19,
     "metadata": {},
     "output_type": "execute_result"
    }
   ],
   "source": [
    "# Number of duplicated data\n",
    "fifa_600.duplicated().sum(axis=0)"
   ]
  },
  {
   "cell_type": "code",
   "execution_count": 20,
   "metadata": {
    "executionInfo": {
     "elapsed": 518,
     "status": "ok",
     "timestamp": 1628691785065,
     "user": {
      "displayName": "Parthesh Haswar",
      "photoUrl": "",
      "userId": "05178899820139619481"
     },
     "user_tz": -330
    },
    "id": "qz73CQ_ik4A4"
   },
   "outputs": [],
   "source": [
    "# Drop all duplictate data\n",
    "fifa_600.drop_duplicates(inplace=True)"
   ]
  },
  {
   "cell_type": "code",
   "execution_count": 21,
   "metadata": {
    "colab": {
     "base_uri": "https://localhost:8080/"
    },
    "executionInfo": {
     "elapsed": 489,
     "status": "ok",
     "timestamp": 1628692194050,
     "user": {
      "displayName": "Parthesh Haswar",
      "photoUrl": "",
      "userId": "05178899820139619481"
     },
     "user_tz": -330
    },
    "id": "CrjcUPDBk5O2",
    "outputId": "d49863eb-af0d-4d94-8602-02509686373a"
   },
   "outputs": [
    {
     "name": "stdout",
     "output_type": "stream",
     "text": [
      "(44       Rayan Cherki\n",
      "150        Emre Demir\n",
      "223    Dantouma Toure\n",
      "Name: Name, dtype: object, 44     16\n",
      "150    16\n",
      "223    16\n",
      "Name: Age, dtype: int64)\n",
      "(24     Aritz Aduriz Zubeldia\n",
      "168       Zlatan Ibrahimović\n",
      "Name: Name, dtype: object, 24     38\n",
      "168    38\n",
      "Name: Age, dtype: int64)\n"
     ]
    }
   ],
   "source": [
    "#2.1 Find the youngest player\n",
    "# 2.2 Find the oldest player\n",
    "youngest_player=fifa_600[fifa_600['Age']==min(fifa_600['Age'])]['Name'],fifa_600[fifa_600['Age']==min(fifa_600['Age'])]['Age']\n",
    "oldest_player=fifa_600[fifa_600['Age']==max(fifa_600['Age'])]['Name'],fifa_600[fifa_600['Age']==max(fifa_600['Age'])]['Age']\n",
    "print(youngest_player)\n",
    "print(oldest_player)"
   ]
  },
  {
   "cell_type": "code",
   "execution_count": 22,
   "metadata": {
    "colab": {
     "base_uri": "https://localhost:8080/"
    },
    "executionInfo": {
     "elapsed": 646,
     "status": "ok",
     "timestamp": 1628693321400,
     "user": {
      "displayName": "Parthesh Haswar",
      "photoUrl": "",
      "userId": "05178899820139619481"
     },
     "user_tz": -330
    },
    "id": "8WGz_n5qnCJP",
    "outputId": "b24150a1-7c76-42db-b5c9-239bea0e9d1b"
   },
   "outputs": [
    {
     "data": {
      "text/plain": [
       "9                     Kylian Mbappé\n",
       "22                   Erling Haaland\n",
       "3                      Lionel Messi\n",
       "58                     Jadon Sancho\n",
       "56                       Phil Foden\n",
       "26     C. Ronaldo dos Santos Aveiro\n",
       "153                Matthijs de Ligt\n",
       "158              Robert Lewandowski\n",
       "23                   Matvey Safonov\n",
       "109                     Kai Havertz\n",
       "Name: Name, dtype: object"
      ]
     },
     "execution_count": 22,
     "metadata": {},
     "output_type": "execute_result"
    }
   ],
   "source": [
    "# List out top 10 players according to their potential\n",
    "top_10_pot=fifa_600.sort_values(by='POT',ascending=False)['Name'].head(10)\n",
    "top_10_pot"
   ]
  },
  {
   "cell_type": "code",
   "execution_count": null,
   "metadata": {
    "colab": {
     "base_uri": "https://localhost:8080/"
    },
    "executionInfo": {
     "elapsed": 9,
     "status": "ok",
     "timestamp": 1628693308720,
     "user": {
      "displayName": "Parthesh Haswar",
      "photoUrl": "",
      "userId": "05178899820139619481"
     },
     "user_tz": -330
    },
    "id": "re_jsJ-5qa-5",
    "outputId": "f62e276c-97b6-4173-8d02-fa8d78b3e6ae"
   },
   "outputs": [],
   "source": []
  },
  {
   "cell_type": "code",
   "execution_count": 23,
   "metadata": {
    "colab": {
     "base_uri": "https://localhost:8080/",
     "height": 203
    },
    "executionInfo": {
     "elapsed": 508,
     "status": "ok",
     "timestamp": 1628693562937,
     "user": {
      "displayName": "Parthesh Haswar",
      "photoUrl": "",
      "userId": "05178899820139619481"
     },
     "user_tz": -330
    },
    "id": "hfNyXVK3qelZ",
    "outputId": "fba35d56-9001-45f6-f9b1-e3be5e6a38c1"
   },
   "outputs": [
    {
     "data": {
      "text/html": [
       "<div>\n",
       "<style scoped>\n",
       "    .dataframe tbody tr th:only-of-type {\n",
       "        vertical-align: middle;\n",
       "    }\n",
       "\n",
       "    .dataframe tbody tr th {\n",
       "        vertical-align: top;\n",
       "    }\n",
       "\n",
       "    .dataframe thead th {\n",
       "        text-align: right;\n",
       "    }\n",
       "</style>\n",
       "<table border=\"1\" class=\"dataframe\">\n",
       "  <thead>\n",
       "    <tr style=\"text-align: right;\">\n",
       "      <th></th>\n",
       "      <th>Name</th>\n",
       "      <th>POT</th>\n",
       "    </tr>\n",
       "  </thead>\n",
       "  <tbody>\n",
       "    <tr>\n",
       "      <th>0</th>\n",
       "      <td>Kepa Arrizabalaga</td>\n",
       "      <td>83</td>\n",
       "    </tr>\n",
       "    <tr>\n",
       "      <th>1</th>\n",
       "      <td>Denzel Dumfries</td>\n",
       "      <td>83</td>\n",
       "    </tr>\n",
       "    <tr>\n",
       "      <th>2</th>\n",
       "      <td>Arnaut Danjuma</td>\n",
       "      <td>80</td>\n",
       "    </tr>\n",
       "    <tr>\n",
       "      <th>3</th>\n",
       "      <td>Lionel Messi</td>\n",
       "      <td>93</td>\n",
       "    </tr>\n",
       "    <tr>\n",
       "      <th>4</th>\n",
       "      <td>Daniel Alves da Silva</td>\n",
       "      <td>82</td>\n",
       "    </tr>\n",
       "  </tbody>\n",
       "</table>\n",
       "</div>"
      ],
      "text/plain": [
       "                    Name  POT\n",
       "0      Kepa Arrizabalaga   83\n",
       "1        Denzel Dumfries   83\n",
       "2         Arnaut Danjuma   80\n",
       "3           Lionel Messi   93\n",
       "4  Daniel Alves da Silva   82"
      ]
     },
     "execution_count": 23,
     "metadata": {},
     "output_type": "execute_result"
    }
   ],
   "source": [
    "new_df = pd.DataFrame({\"Name\":fifa_600['Name'],\"POT\":fifa_600['POT']})\n",
    "new_df.head()"
   ]
  },
  {
   "cell_type": "code",
   "execution_count": 24,
   "metadata": {
    "colab": {
     "base_uri": "https://localhost:8080/",
     "height": 344
    },
    "executionInfo": {
     "elapsed": 10,
     "status": "ok",
     "timestamp": 1628694503479,
     "user": {
      "displayName": "Parthesh Haswar",
      "photoUrl": "",
      "userId": "05178899820139619481"
     },
     "user_tz": -330
    },
    "id": "MroALB9hs4Bs",
    "outputId": "0c4538cb-a6a2-474e-9dea-4c5329de3c57"
   },
   "outputs": [
    {
     "data": {
      "image/png": "[encoded data removed]",
      "text/plain": [
       "<Figure size 2000x1000 with 1 Axes>"
      ]
     },
     "metadata": {},
     "output_type": "display_data"
    }
   ],
   "source": [
    "xpoints = new_df['Name'][:10]\n",
    "ypoints = new_df['POT'][:10]\n",
    "plt.figure(figsize=(20,10))\n",
    "plt.grid()\n",
    "plt.bar(xpoints, ypoints)\n",
    "plt.show()"
   ]
  },
  {
   "cell_type": "code",
   "execution_count": 25,
   "metadata": {
    "colab": {
     "base_uri": "https://localhost:8080/",
     "height": 355
    },
    "executionInfo": {
     "elapsed": 610,
     "status": "ok",
     "timestamp": 1628694831879,
     "user": {
      "displayName": "Parthesh Haswar",
      "photoUrl": "",
      "userId": "05178899820139619481"
     },
     "user_tz": -330
    },
    "id": "vJdfhKAwtizq",
    "outputId": "c65e2d05-2075-4193-a13b-866c484b3c90"
   },
   "outputs": [
    {
     "data": {
      "image/png": "[encoded data removed]",
      "text/plain": [
       "<Figure size 2000x1000 with 1 Axes>"
      ]
     },
     "metadata": {},
     "output_type": "display_data"
    }
   ],
   "source": [
    "xpoints = fifa_600['Name'][:10]\n",
    "ypoints = fifa_600['Wage'][:10]\n",
    "plt.figure(figsize=(20,10))\n",
    "plt.grid()\n",
    "plt.bar(xpoints, ypoints)\n",
    "\n",
    "plt.xlabel(\"Name of players\")\n",
    "plt.ylabel(\"Wage\")\n",
    "plt.title(\"Fifa Player analysis\")\n",
    "plt.show()"
   ]
  },
  {
   "cell_type": "code",
   "execution_count": 26,
   "metadata": {
    "executionInfo": {
     "elapsed": 491,
     "status": "ok",
     "timestamp": 1628694958010,
     "user": {
      "displayName": "Parthesh Haswar",
      "photoUrl": "",
      "userId": "05178899820139619481"
     },
     "user_tz": -330
    },
    "id": "IMx7vZsKxACS"
   },
   "outputs": [],
   "source": [
    "#6 . Find the player who has scored highest goals"
   ]
  },
  {
   "cell_type": "code",
   "execution_count": 27,
   "metadata": {
    "colab": {
     "base_uri": "https://localhost:8080/"
    },
    "executionInfo": {
     "elapsed": 486,
     "status": "ok",
     "timestamp": 1628695040667,
     "user": {
      "displayName": "Parthesh Haswar",
      "photoUrl": "",
      "userId": "05178899820139619481"
     },
     "user_tz": -330
    },
    "id": "oEs2-1yuyMr3",
    "outputId": "1256eef8-7577-47c2-ed84-c54a43f91433"
   },
   "outputs": [
    {
     "data": {
      "text/plain": [
       "387    Gerard Moreno Balagueró\n",
       "Name: Name, dtype: object"
      ]
     },
     "execution_count": 27,
     "metadata": {},
     "output_type": "execute_result"
    }
   ],
   "source": [
    "highest_goals=fifa_600[fifa_600['Hits']==max(fifa_600['Hits'])]['Name']\n",
    "highest_goals"
   ]
  },
  {
   "cell_type": "code",
   "execution_count": 28,
   "metadata": {
    "executionInfo": {
     "elapsed": 500,
     "status": "ok",
     "timestamp": 1628695117234,
     "user": {
      "displayName": "Parthesh Haswar",
      "photoUrl": "",
      "userId": "05178899820139619481"
     },
     "user_tz": -330
    },
    "id": "-7hKbPzVyYmr"
   },
   "outputs": [],
   "source": [
    "# 7. Find all players whose POT is more than equal to 90\n"
   ]
  },
  {
   "cell_type": "code",
   "execution_count": 29,
   "metadata": {
    "colab": {
     "base_uri": "https://localhost:8080/"
    },
    "executionInfo": {
     "elapsed": 517,
     "status": "ok",
     "timestamp": 1628695142483,
     "user": {
      "displayName": "Parthesh Haswar",
      "photoUrl": "",
      "userId": "05178899820139619481"
     },
     "user_tz": -330
    },
    "id": "Op_3s7Nbyzjh",
    "outputId": "0456844e-5317-4042-ce80-b65a8dd5fc4a"
   },
   "outputs": [
    {
     "data": {
      "text/plain": [
       "3                          Lionel Messi\n",
       "9                         Kylian Mbappé\n",
       "12                 Pedro González López\n",
       "22                       Erling Haaland\n",
       "23                       Matvey Safonov\n",
       "26         C. Ronaldo dos Santos Aveiro\n",
       "35                       Anssumane Fati\n",
       "48           Neymar da Silva Santos Jr.\n",
       "56                           Phil Foden\n",
       "58                         Jadon Sancho\n",
       "109                         Kai Havertz\n",
       "126                  Marcos Aoás Corrêa\n",
       "130    Vinícius José de Oliveira Júnior\n",
       "153                    Matthijs de Ligt\n",
       "158                  Robert Lewandowski\n",
       "176       Bruno Miguel Borges Fernandes\n",
       "177                      Joshua Kimmich\n",
       "337                      Anssumane Fati\n",
       "576                      Anssumane Fati\n",
       "Name: Name, dtype: object"
      ]
     },
     "execution_count": 29,
     "metadata": {},
     "output_type": "execute_result"
    }
   ],
   "source": [
    "fifa_600[fifa_600['POT']>=90]['Name']\n"
   ]
  },
  {
   "cell_type": "code",
   "execution_count": 30,
   "metadata": {
    "colab": {
     "base_uri": "https://localhost:8080/"
    },
    "executionInfo": {
     "elapsed": 503,
     "status": "ok",
     "timestamp": 1628695496372,
     "user": {
      "displayName": "Parthesh Haswar",
      "photoUrl": "",
      "userId": "05178899820139619481"
     },
     "user_tz": -330
    },
    "id": "xcLw3oROy5g4",
    "outputId": "313c601f-5c88-4c6b-e66c-57a41aa13d81"
   },
   "outputs": [
    {
     "data": {
      "text/plain": [
       "12                 Pedro González López\n",
       "22                       Erling Haaland\n",
       "35                       Anssumane Fati\n",
       "130    Vinícius José de Oliveira Júnior\n",
       "337                      Anssumane Fati\n",
       "576                      Anssumane Fati\n",
       "Name: Name, dtype: object"
      ]
     },
     "execution_count": 30,
     "metadata": {},
     "output_type": "execute_result"
    }
   ],
   "source": [
    "# Find all player whose pot is more than 90 and age less than 20\n",
    "# fifa_600[fifa_600['POT']>90) and (fifa_600['Age']<20]['Name']\n",
    "fifa_600[(fifa_600['POT']>=90) &  (fifa_600['Age']<20) ]['Name']\n",
    "\n"
   ]
  },
  {
   "cell_type": "code",
   "execution_count": 31,
   "metadata": {
    "colab": {
     "base_uri": "https://localhost:8080/"
    },
    "executionInfo": {
     "elapsed": 491,
     "status": "ok",
     "timestamp": 1628695781625,
     "user": {
      "displayName": "Parthesh Haswar",
      "photoUrl": "",
      "userId": "05178899820139619481"
     },
     "user_tz": -330
    },
    "id": "NKrJBD6UzRUD",
    "outputId": "71743555-245e-4b97-bdda-ddf736db8a9a"
   },
   "outputs": [
    {
     "data": {
      "text/plain": [
       "1                    Denzel Dumfries\n",
       "2                     Arnaut Danjuma\n",
       "5      João Maria Palhinha Gonçalves\n",
       "10                   Gonzalo Montiel\n",
       "12              Pedro González López\n",
       "                   ...              \n",
       "298        Luis Benjamin Paes Soares\n",
       "337                   Anssumane Fati\n",
       "353                     Jules Koundé\n",
       "395                 Ryan Gravenberch\n",
       "576                   Anssumane Fati\n",
       "Name: Name, Length: 92, dtype: object"
      ]
     },
     "execution_count": 31,
     "metadata": {},
     "output_type": "execute_result"
    }
   ],
   "source": [
    "# Find all the players whose values>10 wages less than 50\n",
    "fifa_600[(fifa_600['Value']>10) &  (fifa_600['Wage']<50) ]['Name']"
   ]
  },
  {
   "cell_type": "code",
   "execution_count": 37,
   "metadata": {
    "colab": {
     "base_uri": "https://localhost:8080/",
     "height": 329
    },
    "executionInfo": {
     "elapsed": 1679,
     "status": "ok",
     "timestamp": 1628696842985,
     "user": {
      "displayName": "Parthesh Haswar",
      "photoUrl": "",
      "userId": "05178899820139619481"
     },
     "user_tz": -330
    },
    "id": "J7BaJbJY1TsH",
    "outputId": "d1a2459b-c1a2-4a6f-d786-a9234bc85c69"
   },
   "outputs": [
    {
     "data": {
      "image/png": "[encoded data removed]",
      "text/plain": [
       "<Figure size 640x480 with 2 Axes>"
      ]
     },
     "metadata": {},
     "output_type": "display_data"
    }
   ],
   "source": [
    "sns.heatmap(fifa_600.corr(),annot=True)\n",
    "plt.show()\n"
   ]
  },
  {
   "cell_type": "code",
   "execution_count": null,
   "metadata": {
    "id": "xBrfTlPT5TjM"
   },
   "outputs": [],
   "source": []
  },
  {
   "cell_type": "code",
   "execution_count": null,
   "metadata": {},
   "outputs": [],
   "source": []
  },
  {
   "cell_type": "code",
   "execution_count": null,
   "metadata": {},
   "outputs": [],
   "source": []
  }
 ],
 "metadata": {
  "colab": {
   "authorship_tag": "ABX9TyNBGoF4JWi9GWidexgC3fk0",
   "collapsed_sections": [],
   "name": "Fifa Dataset Analysis (Web Scraping).ipynb",
   "provenance": []
  },
  "kernelspec": {
   "display_name": "Python 3",
   "language": "python",
   "name": "python3"
  },
  "language_info": {
   "codemirror_mode": {
    "name": "ipython",
    "version": 3
   },
   "file_extension": ".py",
   "mimetype": "text/x-python",
   "name": "python",
   "nbconvert_exporter": "python",
   "pygments_lexer": "ipython3",
   "version": "3.9.6"
  }
 },
 "nbformat": 4,
 "nbformat_minor": 1
}
